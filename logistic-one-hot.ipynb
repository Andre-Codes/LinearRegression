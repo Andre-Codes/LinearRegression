{
 "cells": [
  {
   "attachments": {},
   "cell_type": "markdown",
   "metadata": {},
   "source": [
    "# Logistic Regression\n",
    "Used to predict categorical values (rather than continuous values)"
   ]
  },
  {
   "cell_type": "code",
   "execution_count": 37,
   "metadata": {},
   "outputs": [],
   "source": [
    "# customer info\n",
    "import random\n",
    "\n",
    "X = [\n",
    "    [35, 'M', 5000],\n",
    "    [45, 'M', 8000],\n",
    "    [28, 'F', 3500]\n",
    "]\n",
    "# did churn\n",
    "y = [\n",
    "    False,\n",
    "    False,\n",
    "    True\n",
    "]\n",
    "\n",
    "# Define the number of additional rows to add\n",
    "num_rows = 100\n",
    "\n",
    "for _ in range(num_rows):\n",
    "    # Generate random values similar to the existing data\n",
    "    age = random.randint(25, 60)\n",
    "    gender = random.choice(['M', 'F'])\n",
    "    \n",
    "    income_initial = round(100 * (age*3))\n",
    "    prob_modifier = random.randint(1, 10)\n",
    "    income = income_initial / ((prob_modifier % 3) + 1) # Salary has a chance of being cut by 50%-75%\n",
    "\n",
    "    # Append the new row to X\n",
    "    X.append([age, gender, income])\n",
    "\n",
    "    # Generate the corresponding y value, less likely if higher salary\n",
    "    y.append((random.randint(1,income) < 3000))\n",
    "\n"
   ]
  },
  {
   "cell_type": "code",
   "execution_count": 38,
   "metadata": {},
   "outputs": [],
   "source": [
    "import numpy as np\n",
    "\n",
    "X = np.array(X) # Note that this array will be string type\n",
    "y = np.array(y)"
   ]
  },
  {
   "cell_type": "code",
   "execution_count": 39,
   "metadata": {},
   "outputs": [],
   "source": [
    "from sklearn.preprocessing import OneHotEncoder"
   ]
  },
  {
   "cell_type": "code",
   "execution_count": 40,
   "metadata": {},
   "outputs": [
    {
     "name": "stdout",
     "output_type": "stream",
     "text": [
      "(103,)\n",
      "(103, 1)\n",
      "[array(['F', 'M'], dtype='<U11')]\n"
     ]
    },
    {
     "name": "stderr",
     "output_type": "stream",
     "text": [
      "c:\\Users\\amardian\\Python\\Lib\\site-packages\\sklearn\\preprocessing\\_encoders.py:972: FutureWarning: `sparse` was renamed to `sparse_output` in version 1.2 and will be removed in 1.4. `sparse_output` is ignored unless you leave `sparse` to its default value.\n",
      "  warnings.warn(\n"
     ]
    }
   ],
   "source": [
    "# Perform the one-hot encoding\n",
    "X_gender = X[:,1]\n",
    "print(X_gender.shape)\n",
    "\n",
    "X_gender = X_gender.reshape(-1, 1) # Reshape into a 2D array\n",
    "print(X_gender.shape)\n",
    "\n",
    "encoder = OneHotEncoder(sparse=False, dtype=int) # Ensure the results are 'int'\n",
    "encoder.fit(X_gender)\n",
    "print(encoder.categories_)\n",
    "\n",
    "X_gender = encoder.transform(X_gender)"
   ]
  },
  {
   "cell_type": "code",
   "execution_count": 41,
   "metadata": {},
   "outputs": [
    {
     "name": "stdout",
     "output_type": "stream",
     "text": [
      "[[   35     0     1  5000]\n",
      " [   45     0     1  8000]\n",
      " [   28     1     0  3500]\n",
      " [   53     0     1  4543]\n",
      " [   56     0     1  8400]\n",
      " [   53     1     0  4543]\n",
      " [   37     1     0  7400]\n",
      " [   52     1     0  5200]\n",
      " [   25     1     0  5000]\n",
      " [   29     0     1  2486]\n",
      " [   33     0     1  3960]\n",
      " [   59     0     1  5057]\n",
      " [   40     0     1  4000]\n",
      " [   26     1     0  3900]\n",
      " [   50     0     1  7500]\n",
      " [   52     1     0  5200]\n",
      " [   31     1     0  6200]\n",
      " [   60     0     1 18000]\n",
      " [   44     0     1  6600]\n",
      " [   43     0     1  8600]\n",
      " [   46     0     1  4600]\n",
      " [   34     1     0  3400]\n",
      " [   58     1     0  5800]\n",
      " [   29     0     1  2486]\n",
      " [   57     0     1  6840]\n",
      " [   53     1     0  4543]\n",
      " [   51     1     0  6120]\n",
      " [   39     1     0  4680]\n",
      " [   60     0     1 18000]\n",
      " [   58     1     0  5800]\n",
      " [   57     1     0  6840]\n",
      " [   33     0     1  3960]\n",
      " [   49     0     1  9800]\n",
      " [   41     0     1  3514]\n",
      " [   33     0     1  3960]\n",
      " [   57     0     1  6840]\n",
      " [   30     0     1  9000]\n",
      " [   42     1     0 12600]\n",
      " [   48     1     0 14400]\n",
      " [   39     1     0  4680]\n",
      " [   58     0     1  5800]\n",
      " [   28     1     0  2800]\n",
      " [   52     1     0  5200]\n",
      " [   26     0     1  3900]\n",
      " [   58     0     1  5800]\n",
      " [   34     1     0  3400]\n",
      " [   52     0     1  5200]\n",
      " [   44     0     1  6600]\n",
      " [   39     1     0  4680]\n",
      " [   54     1     0 16200]\n",
      " [   43     1     0  8600]\n",
      " [   54     1     0 16200]\n",
      " [   34     0     1  3400]\n",
      " [   34     0     1  3400]\n",
      " [   56     1     0  8400]\n",
      " [   32     1     0  4800]\n",
      " [   33     1     0  3960]\n",
      " [   51     0     1  6120]\n",
      " [   26     1     0  3900]\n",
      " [   35     1     0  3000]\n",
      " [   51     0     1  6120]\n",
      " [   29     0     1  2486]\n",
      " [   48     0     1 14400]\n",
      " [   52     0     1  5200]\n",
      " [   26     1     0  3900]\n",
      " [   39     1     0  4680]\n",
      " [   44     0     1  6600]\n",
      " [   45     0     1  5400]\n",
      " [   58     0     1  5800]\n",
      " [   57     1     0  6840]\n",
      " [   35     0     1  3000]\n",
      " [   59     1     0  5057]\n",
      " [   25     1     0  5000]\n",
      " [   36     1     0 10800]\n",
      " [   53     1     0  4543]\n",
      " [   51     0     1  6120]\n",
      " [   34     1     0  3400]\n",
      " [   38     0     1  5700]\n",
      " [   37     0     1  7400]\n",
      " [   51     0     1  6120]\n",
      " [   26     1     0  3900]\n",
      " [   31     0     1  6200]\n",
      " [   59     1     0  5057]\n",
      " [   56     1     0  8400]\n",
      " [   42     1     0 12600]\n",
      " [   38     1     0  5700]\n",
      " [   50     0     1  7500]\n",
      " [   32     1     0  4800]\n",
      " [   38     1     0  5700]\n",
      " [   53     1     0  4543]\n",
      " [   57     0     1  6840]\n",
      " [   53     0     1  4543]\n",
      " [   48     0     1 14400]\n",
      " [   25     0     1  5000]\n",
      " [   36     1     0 10800]\n",
      " [   43     0     1  8600]\n",
      " [   44     0     1  6600]\n",
      " [   44     0     1  6600]\n",
      " [   26     0     1  3900]\n",
      " [   41     0     1  3514]\n",
      " [   47     0     1  4029]\n",
      " [   51     1     0  6120]\n",
      " [   40     1     0  4000]]\n"
     ]
    }
   ],
   "source": [
    "# Two ways adding the econding gender values\n",
    "# INSERT or HSTACK\n",
    "\n",
    "# INSERT\n",
    "X = np.insert(X[:,[0,2]], [1], X_gender, axis=1)\n",
    "X = X.astype(int) # Ensure the array is int type\n",
    "\n",
    "# HSTACK\n",
    "# X = np.hstack((X[:,[0,2]], X_gender))\n",
    "print(X)"
   ]
  },
  {
   "cell_type": "code",
   "execution_count": 42,
   "metadata": {},
   "outputs": [],
   "source": [
    "# create model\n",
    "from sklearn.linear_model import LogisticRegression\n",
    "model = LogisticRegression()"
   ]
  },
  {
   "cell_type": "code",
   "execution_count": 43,
   "metadata": {},
   "outputs": [
    {
     "data": {
      "text/html": [
       "<style>#sk-container-id-3 {color: black;}#sk-container-id-3 pre{padding: 0;}#sk-container-id-3 div.sk-toggleable {background-color: white;}#sk-container-id-3 label.sk-toggleable__label {cursor: pointer;display: block;width: 100%;margin-bottom: 0;padding: 0.3em;box-sizing: border-box;text-align: center;}#sk-container-id-3 label.sk-toggleable__label-arrow:before {content: \"▸\";float: left;margin-right: 0.25em;color: #696969;}#sk-container-id-3 label.sk-toggleable__label-arrow:hover:before {color: black;}#sk-container-id-3 div.sk-estimator:hover label.sk-toggleable__label-arrow:before {color: black;}#sk-container-id-3 div.sk-toggleable__content {max-height: 0;max-width: 0;overflow: hidden;text-align: left;background-color: #f0f8ff;}#sk-container-id-3 div.sk-toggleable__content pre {margin: 0.2em;color: black;border-radius: 0.25em;background-color: #f0f8ff;}#sk-container-id-3 input.sk-toggleable__control:checked~div.sk-toggleable__content {max-height: 200px;max-width: 100%;overflow: auto;}#sk-container-id-3 input.sk-toggleable__control:checked~label.sk-toggleable__label-arrow:before {content: \"▾\";}#sk-container-id-3 div.sk-estimator input.sk-toggleable__control:checked~label.sk-toggleable__label {background-color: #d4ebff;}#sk-container-id-3 div.sk-label input.sk-toggleable__control:checked~label.sk-toggleable__label {background-color: #d4ebff;}#sk-container-id-3 input.sk-hidden--visually {border: 0;clip: rect(1px 1px 1px 1px);clip: rect(1px, 1px, 1px, 1px);height: 1px;margin: -1px;overflow: hidden;padding: 0;position: absolute;width: 1px;}#sk-container-id-3 div.sk-estimator {font-family: monospace;background-color: #f0f8ff;border: 1px dotted black;border-radius: 0.25em;box-sizing: border-box;margin-bottom: 0.5em;}#sk-container-id-3 div.sk-estimator:hover {background-color: #d4ebff;}#sk-container-id-3 div.sk-parallel-item::after {content: \"\";width: 100%;border-bottom: 1px solid gray;flex-grow: 1;}#sk-container-id-3 div.sk-label:hover label.sk-toggleable__label {background-color: #d4ebff;}#sk-container-id-3 div.sk-serial::before {content: \"\";position: absolute;border-left: 1px solid gray;box-sizing: border-box;top: 0;bottom: 0;left: 50%;z-index: 0;}#sk-container-id-3 div.sk-serial {display: flex;flex-direction: column;align-items: center;background-color: white;padding-right: 0.2em;padding-left: 0.2em;position: relative;}#sk-container-id-3 div.sk-item {position: relative;z-index: 1;}#sk-container-id-3 div.sk-parallel {display: flex;align-items: stretch;justify-content: center;background-color: white;position: relative;}#sk-container-id-3 div.sk-item::before, #sk-container-id-3 div.sk-parallel-item::before {content: \"\";position: absolute;border-left: 1px solid gray;box-sizing: border-box;top: 0;bottom: 0;left: 50%;z-index: -1;}#sk-container-id-3 div.sk-parallel-item {display: flex;flex-direction: column;z-index: 1;position: relative;background-color: white;}#sk-container-id-3 div.sk-parallel-item:first-child::after {align-self: flex-end;width: 50%;}#sk-container-id-3 div.sk-parallel-item:last-child::after {align-self: flex-start;width: 50%;}#sk-container-id-3 div.sk-parallel-item:only-child::after {width: 0;}#sk-container-id-3 div.sk-dashed-wrapped {border: 1px dashed gray;margin: 0 0.4em 0.5em 0.4em;box-sizing: border-box;padding-bottom: 0.4em;background-color: white;}#sk-container-id-3 div.sk-label label {font-family: monospace;font-weight: bold;display: inline-block;line-height: 1.2em;}#sk-container-id-3 div.sk-label-container {text-align: center;}#sk-container-id-3 div.sk-container {/* jupyter's `normalize.less` sets `[hidden] { display: none; }` but bootstrap.min.css set `[hidden] { display: none !important; }` so we also need the `!important` here to be able to override the default hidden behavior on the sphinx rendered scikit-learn.org. See: https://github.com/scikit-learn/scikit-learn/issues/21755 */display: inline-block !important;position: relative;}#sk-container-id-3 div.sk-text-repr-fallback {display: none;}</style><div id=\"sk-container-id-3\" class=\"sk-top-container\"><div class=\"sk-text-repr-fallback\"><pre>LogisticRegression()</pre><b>In a Jupyter environment, please rerun this cell to show the HTML representation or trust the notebook. <br />On GitHub, the HTML representation is unable to render, please try loading this page with nbviewer.org.</b></div><div class=\"sk-container\" hidden><div class=\"sk-item\"><div class=\"sk-estimator sk-toggleable\"><input class=\"sk-toggleable__control sk-hidden--visually\" id=\"sk-estimator-id-3\" type=\"checkbox\" checked><label for=\"sk-estimator-id-3\" class=\"sk-toggleable__label sk-toggleable__label-arrow\">LogisticRegression</label><div class=\"sk-toggleable__content\"><pre>LogisticRegression()</pre></div></div></div></div></div>"
      ],
      "text/plain": [
       "LogisticRegression()"
      ]
     },
     "execution_count": 43,
     "metadata": {},
     "output_type": "execute_result"
    }
   ],
   "source": [
    "# train model\n",
    "model.fit(X, y)"
   ]
  },
  {
   "cell_type": "code",
   "execution_count": 73,
   "metadata": {},
   "outputs": [
    {
     "name": "stdout",
     "output_type": "stream",
     "text": [
      "[[  55    0    1 7000]]\n"
     ]
    }
   ],
   "source": [
    "# make a prediction\n",
    "new_input = np.array([[55, 'M', 7000]])\n",
    "\n",
    "# encode gender\n",
    "new_input_gender = new_input[:, 1].reshape(-1, 1)\n",
    "new_input_gender = encoder.transform(new_input_gender)\n",
    "\n",
    "# combine encoded gender with initial data using INSERT method, at index 1 (col 2) in between age and salary\n",
    "new_input = np.insert(new_input[:, [0,2]], [1], new_input_gender, axis=1)\n",
    "new_input = new_input.astype(int)\n",
    "print(new_input)"
   ]
  },
  {
   "cell_type": "code",
   "execution_count": 74,
   "metadata": {},
   "outputs": [],
   "source": [
    "pred = model.predict(new_input)"
   ]
  },
  {
   "cell_type": "code",
   "execution_count": 75,
   "metadata": {},
   "outputs": [
    {
     "name": "stdout",
     "output_type": "stream",
     "text": [
      "A 55 year old Male making $7000 will churn\n",
      "[False]\n"
     ]
    }
   ],
   "source": [
    "user_age = new_input[0,0]\n",
    "user_gen = (\"Male\" if new_input[0,1] == 0 else \"Female\")\n",
    "user_sal = new_input[0,3]\n",
    "print(f\"A {user_age} year old {user_gen} making ${user_sal} will churn\")\n",
    "print(pred)"
   ]
  },
  {
   "cell_type": "code",
   "execution_count": 47,
   "metadata": {},
   "outputs": [
    {
     "name": "stdout",
     "output_type": "stream",
     "text": [
      "range(2000, 20000, 2000)\n"
     ]
    }
   ],
   "source": [
    "ticks = range(2000, 20000, 2000)\n",
    "print(ticks)"
   ]
  },
  {
   "attachments": {},
   "cell_type": "markdown",
   "metadata": {},
   "source": [
    "## Plot the relation between salary & age and churn"
   ]
  },
  {
   "attachments": {},
   "cell_type": "markdown",
   "metadata": {},
   "source": [
    "1. Age has a mild positive correlation salary\n",
    "2. Salary has a strong positive correlation on churn\n",
    "\n",
    "As expected, since salary has a strong affect on churn, the higher the salary the less likely (black dot) to churn\n",
    "Since age & salary have mild relation, age also affects  churn rate, however, as age increases, churn only slightly decreases"
   ]
  },
  {
   "cell_type": "code",
   "execution_count": 48,
   "metadata": {},
   "outputs": [
    {
     "data": {
      "image/png": "[encoded data removed]",
      "text/plain": [
       "<Figure size 800x600 with 1 Axes>"
      ]
     },
     "metadata": {},
     "output_type": "display_data"
    }
   ],
   "source": [
    "import matplotlib.pyplot as plt\n",
    "\n",
    "plt.figure(figsize=(8, 6))\n",
    "plt.scatter(X[:, 0], X[:, 3], c=y, edgecolors='k')\n",
    "\n",
    "plt.xticks(range(25, 66, 2))\n",
    "plt.yticks(range(2000, 20001, 1000))\n",
    "\n",
    "\n",
    "plt.show()"
   ]
  },
  {
   "cell_type": "code",
   "execution_count": null,
   "metadata": {},
   "outputs": [],
   "source": []
  },
  {
   "cell_type": "code",
   "execution_count": null,
   "metadata": {},
   "outputs": [],
   "source": []
  }
 ],
 "metadata": {
  "kernelspec": {
   "display_name": "Python 3 (ipykernel)",
   "language": "python",
   "name": "python3"
  },
  "language_info": {
   "codemirror_mode": {
    "name": "ipython",
    "version": 3
   },
   "file_extension": ".py",
   "mimetype": "text/x-python",
   "name": "python",
   "nbconvert_exporter": "python",
   "pygments_lexer": "ipython3",
   "version": "3.11.3"
  }
 },
 "nbformat": 4,
 "nbformat_minor": 4
}
