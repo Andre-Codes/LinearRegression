{
 "cells": [
  {
   "attachments": {},
   "cell_type": "markdown",
   "metadata": {},
   "source": [
    "# Logistic Regression\n",
    "Used to predict categorical values (rather than continuous values)"
   ]
  },
  {
   "cell_type": "code",
   "execution_count": 156,
   "metadata": {},
   "outputs": [],
   "source": [
    "# customer info\n",
    "import random\n",
    "\n",
    "X = [\n",
    "    [35, 'M', 5000],\n",
    "    [45, 'M', 8000],\n",
    "    [28, 'F', 3500]\n",
    "]\n",
    "# did churn\n",
    "y = [\n",
    "    False,\n",
    "    False,\n",
    "    True\n",
    "]\n",
    "\n",
    "# The number of observations (rows)\n",
    "num_rows = 100\n",
    "\n",
    "for _ in range(num_rows):\n",
    "    # Generate random values similar to the existing data\n",
    "    age = random.randint(25, 60)\n",
    "    gender = random.choice(['M', 'F'])\n",
    "    \n",
    "    income_initial = 10 * (age**2)\n",
    "    prob_modifier = random.randint(1, 10)\n",
    "\n",
    "    # Salary has a chance of being cut by 50%-75% (prevents a perfect positive correlation between age & salary)\n",
    "    income = round(income_initial / ((prob_modifier % 3) + 1))\n",
    "\n",
    "    # Append the new row to X\n",
    "    X.append([age, gender, income])\n",
    "\n",
    "    # Generate the corresponding y value, less likely if higher salary\n",
    "    y.append((random.randint(1,income) < 4000))\n",
    "\n"
   ]
  },
  {
   "cell_type": "code",
   "execution_count": 157,
   "metadata": {},
   "outputs": [],
   "source": [
    "import numpy as np\n",
    "\n",
    "X = np.array(X) # Note that this array will be string type\n",
    "y = np.array(y)"
   ]
  },
  {
   "cell_type": "code",
   "execution_count": 158,
   "metadata": {},
   "outputs": [],
   "source": [
    "from sklearn.preprocessing import OneHotEncoder"
   ]
  },
  {
   "cell_type": "code",
   "execution_count": 159,
   "metadata": {},
   "outputs": [
    {
     "name": "stdout",
     "output_type": "stream",
     "text": [
      "(103,)\n",
      "(103, 1)\n",
      "[array(['F', 'M'], dtype='<U11')]\n"
     ]
    }
   ],
   "source": [
    "# Perform the one-hot encoding\n",
    "X_gender = X[:,1]\n",
    "print(X_gender.shape)\n",
    "\n",
    "X_gender = X_gender.reshape(-1, 1) # Reshape into a 2D array\n",
    "print(X_gender.shape)\n",
    "\n",
    "encoder = OneHotEncoder(sparse_output=False, dtype=int) # Ensure the results are 'int'\n",
    "encoder.fit(X_gender)\n",
    "print(encoder.categories_)\n",
    "\n",
    "X_gender = encoder.transform(X_gender)"
   ]
  },
  {
   "cell_type": "code",
   "execution_count": 160,
   "metadata": {},
   "outputs": [
    {
     "name": "stdout",
     "output_type": "stream",
     "text": [
      "[[   35     0     1  5000]\n",
      " [   45     0     1  8000]\n",
      " [   28     1     0  3500]\n",
      " [   37     1     0 13690]\n",
      " [   34     1     0 11560]\n",
      " [   46     1     0  7053]\n",
      " [   35     0     1  6125]\n",
      " [   46     0     1  7053]\n",
      " [   40     1     0  8000]\n",
      " [   37     1     0  4563]\n",
      " [   47     1     0 11045]\n",
      " [   41     0     1  8405]\n",
      " [   35     0     1 12250]\n",
      " [   38     1     0 14440]\n",
      " [   41     1     0  8405]\n",
      " [   59     0     1 17405]\n",
      " [   38     0     1 14440]\n",
      " [   48     1     0 11520]\n",
      " [   38     0     1 14440]\n",
      " [   28     0     1  2613]\n",
      " [   56     1     0 31360]\n",
      " [   60     1     0 12000]\n",
      " [   40     1     0  8000]\n",
      " [   44     1     0  6453]\n",
      " [   36     0     1 12960]\n",
      " [   59     1     0 34810]\n",
      " [   53     1     0 28090]\n",
      " [   51     0     1  8670]\n",
      " [   39     1     0 15210]\n",
      " [   44     0     1  9680]\n",
      " [   37     1     0  4563]\n",
      " [   46     0     1 10580]\n",
      " [   57     1     0 16245]\n",
      " [   31     1     0  3203]\n",
      " [   29     1     0  4205]\n",
      " [   33     0     1  5445]\n",
      " [   42     0     1 17640]\n",
      " [   46     0     1 10580]\n",
      " [   26     1     0  3380]\n",
      " [   46     1     0 21160]\n",
      " [   36     0     1  4320]\n",
      " [   58     0     1 16820]\n",
      " [   53     0     1  9363]\n",
      " [   56     1     0 31360]\n",
      " [   32     1     0  5120]\n",
      " [   31     0     1  4805]\n",
      " [   47     1     0 11045]\n",
      " [   28     1     0  7840]\n",
      " [   55     1     0 30250]\n",
      " [   27     0     1  2430]\n",
      " [   53     0     1 14045]\n",
      " [   34     1     0  3853]\n",
      " [   46     1     0  7053]\n",
      " [   46     1     0 21160]\n",
      " [   35     1     0 12250]\n",
      " [   48     0     1  7680]\n",
      " [   39     0     1  7605]\n",
      " [   51     1     0  8670]\n",
      " [   44     0     1 19360]\n",
      " [   43     1     0  9245]\n",
      " [   39     1     0  7605]\n",
      " [   47     1     0 22090]\n",
      " [   45     0     1  6750]\n",
      " [   45     1     0 10125]\n",
      " [   54     0     1 29160]\n",
      " [   27     1     0  3645]\n",
      " [   56     1     0 10453]\n",
      " [   36     0     1  4320]\n",
      " [   36     0     1  4320]\n",
      " [   46     1     0 21160]\n",
      " [   49     1     0 12005]\n",
      " [   58     1     0 16820]\n",
      " [   29     0     1  2803]\n",
      " [   45     1     0  6750]\n",
      " [   40     1     0 16000]\n",
      " [   29     1     0  8410]\n",
      " [   57     1     0 10830]\n",
      " [   53     1     0 14045]\n",
      " [   47     1     0 11045]\n",
      " [   25     1     0  6250]\n",
      " [   30     1     0  4500]\n",
      " [   26     0     1  3380]\n",
      " [   53     0     1 14045]\n",
      " [   38     1     0  4813]\n",
      " [   44     0     1 19360]\n",
      " [   30     0     1  4500]\n",
      " [   55     0     1 30250]\n",
      " [   27     0     1  7290]\n",
      " [   30     0     1  3000]\n",
      " [   27     0     1  2430]\n",
      " [   40     1     0  8000]\n",
      " [   30     0     1  4500]\n",
      " [   49     1     0  8003]\n",
      " [   32     0     1  5120]\n",
      " [   51     0     1 13005]\n",
      " [   55     1     0 30250]\n",
      " [   41     1     0  5603]\n",
      " [   53     1     0 28090]\n",
      " [   50     0     1 25000]\n",
      " [   31     0     1  3203]\n",
      " [   56     0     1 10453]\n",
      " [   25     1     0  3125]\n",
      " [   28     1     0  2613]]\n"
     ]
    }
   ],
   "source": [
    "# Two ways adding the econding gender values\n",
    "# INSERT or HSTACK\n",
    "\n",
    "# INSERT\n",
    "X = np.insert(X[:,[0,2]], [1], X_gender, axis=1)\n",
    "X = X.astype(int) # Ensure the array is int type no that there are no more string types in the array\n",
    "\n",
    "# HSTACK\n",
    "# X = np.hstack((X[:,[0,2]], X_gender))\n",
    "print(X)"
   ]
  },
  {
   "cell_type": "code",
   "execution_count": 161,
   "metadata": {},
   "outputs": [],
   "source": [
    "# create model\n",
    "from sklearn.linear_model import LogisticRegression\n",
    "model = LogisticRegression()"
   ]
  },
  {
   "cell_type": "code",
   "execution_count": 162,
   "metadata": {},
   "outputs": [
    {
     "data": {
      "text/html": [
       "<style>#sk-container-id-8 {color: black;}#sk-container-id-8 pre{padding: 0;}#sk-container-id-8 div.sk-toggleable {background-color: white;}#sk-container-id-8 label.sk-toggleable__label {cursor: pointer;display: block;width: 100%;margin-bottom: 0;padding: 0.3em;box-sizing: border-box;text-align: center;}#sk-container-id-8 label.sk-toggleable__label-arrow:before {content: \"▸\";float: left;margin-right: 0.25em;color: #696969;}#sk-container-id-8 label.sk-toggleable__label-arrow:hover:before {color: black;}#sk-container-id-8 div.sk-estimator:hover label.sk-toggleable__label-arrow:before {color: black;}#sk-container-id-8 div.sk-toggleable__content {max-height: 0;max-width: 0;overflow: hidden;text-align: left;background-color: #f0f8ff;}#sk-container-id-8 div.sk-toggleable__content pre {margin: 0.2em;color: black;border-radius: 0.25em;background-color: #f0f8ff;}#sk-container-id-8 input.sk-toggleable__control:checked~div.sk-toggleable__content {max-height: 200px;max-width: 100%;overflow: auto;}#sk-container-id-8 input.sk-toggleable__control:checked~label.sk-toggleable__label-arrow:before {content: \"▾\";}#sk-container-id-8 div.sk-estimator input.sk-toggleable__control:checked~label.sk-toggleable__label {background-color: #d4ebff;}#sk-container-id-8 div.sk-label input.sk-toggleable__control:checked~label.sk-toggleable__label {background-color: #d4ebff;}#sk-container-id-8 input.sk-hidden--visually {border: 0;clip: rect(1px 1px 1px 1px);clip: rect(1px, 1px, 1px, 1px);height: 1px;margin: -1px;overflow: hidden;padding: 0;position: absolute;width: 1px;}#sk-container-id-8 div.sk-estimator {font-family: monospace;background-color: #f0f8ff;border: 1px dotted black;border-radius: 0.25em;box-sizing: border-box;margin-bottom: 0.5em;}#sk-container-id-8 div.sk-estimator:hover {background-color: #d4ebff;}#sk-container-id-8 div.sk-parallel-item::after {content: \"\";width: 100%;border-bottom: 1px solid gray;flex-grow: 1;}#sk-container-id-8 div.sk-label:hover label.sk-toggleable__label {background-color: #d4ebff;}#sk-container-id-8 div.sk-serial::before {content: \"\";position: absolute;border-left: 1px solid gray;box-sizing: border-box;top: 0;bottom: 0;left: 50%;z-index: 0;}#sk-container-id-8 div.sk-serial {display: flex;flex-direction: column;align-items: center;background-color: white;padding-right: 0.2em;padding-left: 0.2em;position: relative;}#sk-container-id-8 div.sk-item {position: relative;z-index: 1;}#sk-container-id-8 div.sk-parallel {display: flex;align-items: stretch;justify-content: center;background-color: white;position: relative;}#sk-container-id-8 div.sk-item::before, #sk-container-id-8 div.sk-parallel-item::before {content: \"\";position: absolute;border-left: 1px solid gray;box-sizing: border-box;top: 0;bottom: 0;left: 50%;z-index: -1;}#sk-container-id-8 div.sk-parallel-item {display: flex;flex-direction: column;z-index: 1;position: relative;background-color: white;}#sk-container-id-8 div.sk-parallel-item:first-child::after {align-self: flex-end;width: 50%;}#sk-container-id-8 div.sk-parallel-item:last-child::after {align-self: flex-start;width: 50%;}#sk-container-id-8 div.sk-parallel-item:only-child::after {width: 0;}#sk-container-id-8 div.sk-dashed-wrapped {border: 1px dashed gray;margin: 0 0.4em 0.5em 0.4em;box-sizing: border-box;padding-bottom: 0.4em;background-color: white;}#sk-container-id-8 div.sk-label label {font-family: monospace;font-weight: bold;display: inline-block;line-height: 1.2em;}#sk-container-id-8 div.sk-label-container {text-align: center;}#sk-container-id-8 div.sk-container {/* jupyter's `normalize.less` sets `[hidden] { display: none; }` but bootstrap.min.css set `[hidden] { display: none !important; }` so we also need the `!important` here to be able to override the default hidden behavior on the sphinx rendered scikit-learn.org. See: https://github.com/scikit-learn/scikit-learn/issues/21755 */display: inline-block !important;position: relative;}#sk-container-id-8 div.sk-text-repr-fallback {display: none;}</style><div id=\"sk-container-id-8\" class=\"sk-top-container\"><div class=\"sk-text-repr-fallback\"><pre>LogisticRegression()</pre><b>In a Jupyter environment, please rerun this cell to show the HTML representation or trust the notebook. <br />On GitHub, the HTML representation is unable to render, please try loading this page with nbviewer.org.</b></div><div class=\"sk-container\" hidden><div class=\"sk-item\"><div class=\"sk-estimator sk-toggleable\"><input class=\"sk-toggleable__control sk-hidden--visually\" id=\"sk-estimator-id-8\" type=\"checkbox\" checked><label for=\"sk-estimator-id-8\" class=\"sk-toggleable__label sk-toggleable__label-arrow\">LogisticRegression</label><div class=\"sk-toggleable__content\"><pre>LogisticRegression()</pre></div></div></div></div></div>"
      ],
      "text/plain": [
       "LogisticRegression()"
      ]
     },
     "execution_count": 162,
     "metadata": {},
     "output_type": "execute_result"
    }
   ],
   "source": [
    "# train model\n",
    "model.fit(X, y)"
   ]
  },
  {
   "cell_type": "code",
   "execution_count": 163,
   "metadata": {},
   "outputs": [
    {
     "name": "stdout",
     "output_type": "stream",
     "text": [
      "[[   30     0     1 15000]]\n"
     ]
    }
   ],
   "source": [
    "# make a prediction\n",
    "new_input = np.array([[30, 'M', 15000]])\n",
    "\n",
    "# encode gender\n",
    "new_input_gender = new_input[:, 1].reshape(-1, 1)\n",
    "new_input_gender = encoder.transform(new_input_gender)\n",
    "\n",
    "# combine encoded gender with initial data using INSERT method, at index 1 (col 2) in between age and salary\n",
    "new_input = np.insert(new_input[:, [0,2]], [1], new_input_gender, axis=1)\n",
    "new_input = new_input.astype(int)\n",
    "print(new_input)"
   ]
  },
  {
   "cell_type": "code",
   "execution_count": 164,
   "metadata": {},
   "outputs": [],
   "source": [
    "pred = model.predict(new_input)"
   ]
  },
  {
   "cell_type": "code",
   "execution_count": 165,
   "metadata": {},
   "outputs": [
    {
     "name": "stdout",
     "output_type": "stream",
     "text": [
      "Will a 30 year old Male making $15000 will churn?\n",
      "[False]\n"
     ]
    }
   ],
   "source": [
    "user_age = new_input[0,0]\n",
    "user_gen = (\"Male\" if new_input[0,1] == 0 else \"Female\")\n",
    "user_sal = new_input[0,3]\n",
    "print(f\"Will a {user_age} year old {user_gen} making ${user_sal} will churn?\")\n",
    "print(pred)"
   ]
  },
  {
   "cell_type": "code",
   "execution_count": 166,
   "metadata": {},
   "outputs": [
    {
     "name": "stdout",
     "output_type": "stream",
     "text": [
      "range(2000, 20000, 2000)\n"
     ]
    }
   ],
   "source": [
    "ticks = range(2000, 20000, 2000)\n",
    "print(ticks)"
   ]
  },
  {
   "attachments": {},
   "cell_type": "markdown",
   "metadata": {},
   "source": [
    "## Plot the relation between salary & age and churn"
   ]
  },
  {
   "attachments": {},
   "cell_type": "markdown",
   "metadata": {},
   "source": [
    "1. Age has a mild positive correlation salary\n",
    "2. Salary has a strong positive correlation on churn\n",
    "\n",
    "As expected, since salary has a strong affect on churn, the higher the salary the less likely (black dot) to churn\n",
    "Since age & salary have mild relation, age also affects  churn rate, however, as age increases, churn only slightly decreases"
   ]
  },
  {
   "cell_type": "code",
   "execution_count": 178,
   "metadata": {},
   "outputs": [
    {
     "data": {
      "image/png": "[encoded data removed]",
      "text/plain": [
       "<Figure size 800x600 with 1 Axes>"
      ]
     },
     "metadata": {},
     "output_type": "display_data"
    }
   ],
   "source": [
    "import matplotlib.pyplot as plt\n",
    "\n",
    "plt.figure(figsize=(8, 6))\n",
    "\n",
    "# Plot the y value points separately (False vs True)\n",
    "# Plotting Churn: False data points\n",
    "plt.scatter(X[y == False, 0], X[y == False, 3], color='black', edgecolors='k', label='Churn: False')\n",
    "\n",
    "# Plotting Churn: True data points\n",
    "plt.scatter(X[y == True, 0], X[y == True, 3], color='yellow', edgecolors='k', label='Churn: True')\n",
    "\n",
    "plt.xticks(range(25, 66, 2))\n",
    "plt.yticks(range(2000, 42000, 1500))\n",
    "\n",
    "# Add the legend\n",
    "plt.legend()\n",
    "\n",
    "plt.show()"
   ]
  },
  {
   "cell_type": "code",
   "execution_count": null,
   "metadata": {},
   "outputs": [],
   "source": []
  }
 ],
 "metadata": {
  "kernelspec": {
   "display_name": "Python 3 (ipykernel)",
   "language": "python",
   "name": "python3"
  },
  "language_info": {
   "codemirror_mode": {
    "name": "ipython",
    "version": 3
   },
   "file_extension": ".py",
   "mimetype": "text/x-python",
   "name": "python",
   "nbconvert_exporter": "python",
   "pygments_lexer": "ipython3",
   "version": "3.11.3"
  }
 },
 "nbformat": 4,
 "nbformat_minor": 4
}
