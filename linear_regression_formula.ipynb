{
 "cells": [
  {
   "attachments": {},
   "cell_type": "markdown",
   "metadata": {},
   "source": [
    "# Linear Regression in Python\n"
   ]
  },
  {
   "attachments": {},
   "cell_type": "markdown",
   "metadata": {},
   "source": [
    "### Using Numpy to build the formula: TEST\n",
    "\n",
    "m = $\\frac{N Σ(xy) − Σx Σy}{N Σ(x2) − (Σx)2}$\n",
    "\n",
    "b = $\\frac{Σy − m Σx}{N}$"
   ]
  },
  {
   "cell_type": "code",
   "execution_count": 1,
   "metadata": {},
   "outputs": [],
   "source": [
    "import numpy as np"
   ]
  },
  {
   "attachments": {},
   "cell_type": "markdown",
   "metadata": {},
   "source": [
    "#### Create the data sets for X, Y"
   ]
  },
  {
   "cell_type": "code",
   "execution_count": 3,
   "metadata": {},
   "outputs": [
    {
     "name": "stdout",
     "output_type": "stream",
     "text": [
      "9\n",
      "X values: [1 2 3 4 5 6 7 8 9]\n",
      "Y values: [ 3  4  5  6  6  8  8  9 11]\n"
     ]
    }
   ],
   "source": [
    "X = np.array([1,2,3,4,5,6,7,8,9])\n",
    "random_nums = np.random.randint(1, 3, size=(np.size(X)))\n",
    "y = random_nums + X\n",
    "y_new = random_nums + X\n",
    "n = np.size(X)\n",
    "print(n)\n",
    "print(f\"X values: {X}\")\n",
    "print(f\"Y values: {y}\")"
   ]
  },
  {
   "attachments": {},
   "cell_type": "markdown",
   "metadata": {},
   "source": [
    "Get $\\sum(x)$ & $\\sum(y)$"
   ]
  },
  {
   "cell_type": "code",
   "execution_count": 8,
   "metadata": {},
   "outputs": [
    {
     "name": "stdout",
     "output_type": "stream",
     "text": [
      "Sum of X: 45\n",
      "Sum of Y: 60\n"
     ]
    }
   ],
   "source": [
    "X_sum = np.sum(X)\n",
    "Y_sum = np.sum(y)\n",
    "print(f\"Sum of X: {X_sum}\")\n",
    "print(f\"Sum of Y: {Y_sum}\")"
   ]
  },
  {
   "attachments": {},
   "cell_type": "markdown",
   "metadata": {},
   "source": [
    "Get $\\sum(X^{2})$"
   ]
  },
  {
   "cell_type": "code",
   "execution_count": 10,
   "metadata": {},
   "outputs": [
    {
     "name": "stdout",
     "output_type": "stream",
     "text": [
      "[ 1  4  9 16 25 36 49 64 81]\n",
      "285\n"
     ]
    }
   ],
   "source": [
    "X_sq = np.square(X)\n",
    "print(X_sq)\n",
    "\n",
    "sum_X_sq = np.sum(X_sq)\n",
    "print(sum_X_sq)"
   ]
  },
  {
   "attachments": {},
   "cell_type": "markdown",
   "metadata": {},
   "source": [
    "Get $\\sum(XY)$"
   ]
  },
  {
   "cell_type": "code",
   "execution_count": 11,
   "metadata": {},
   "outputs": [
    {
     "name": "stdout",
     "output_type": "stream",
     "text": [
      "[ 3  6 15 20 35 48 63 80 90]\n",
      "360\n"
     ]
    }
   ],
   "source": [
    "XY = (X * y)\n",
    "print(XY)\n",
    "\n",
    "sum_XY = np.sum(X * y)\n",
    "print(sum_XY)"
   ]
  },
  {
   "attachments": {},
   "cell_type": "markdown",
   "metadata": {},
   "source": [
    "### Data points"
   ]
  },
  {
   "cell_type": "code",
   "execution_count": 13,
   "metadata": {},
   "outputs": [
    {
     "name": "stdout",
     "output_type": "stream",
     "text": [
      "   X|Y|X^2|X*Y\n",
      "[[ 1  3  1  3]\n",
      " [ 2  3  4  6]\n",
      " [ 3  5  9 15]\n",
      " [ 4  5 16 20]\n",
      " [ 5  7 25 35]\n",
      " [ 6  8 36 48]\n",
      " [ 7  9 49 63]\n",
      " [ 8 10 64 80]\n",
      " [ 9 10 81 90]]\n",
      "[(1, 3), (2, 3), (3, 5), (4, 5), (5, 7), (6, 8), (7, 9), (8, 10), (9, 10)]\n"
     ]
    }
   ],
   "source": [
    "data_points = np.array([X, y, X_sq, XY])\n",
    "print(\"   X|Y|X^2|X*Y\")\n",
    "print(np.transpose(data_points))\n",
    "\n",
    "original_data_sets = list(zip(X, y))\n",
    "print(original_data_sets)\n"
   ]
  },
  {
   "attachments": {},
   "cell_type": "markdown",
   "metadata": {},
   "source": [
    "### Calculate Slope m"
   ]
  },
  {
   "cell_type": "code",
   "execution_count": 18,
   "metadata": {},
   "outputs": [
    {
     "name": "stdout",
     "output_type": "stream",
     "text": [
      "Slope: 1.0\n"
     ]
    }
   ],
   "source": [
    "slope = ((n * sum_XY) - (X_sum * Y_sum)) / ((n * sum_X_sq) - (X_sum**2))\n",
    "print(f\"Slope: {slope}\")"
   ]
  },
  {
   "attachments": {},
   "cell_type": "markdown",
   "metadata": {},
   "source": [
    "### Calculate Intercept b"
   ]
  },
  {
   "cell_type": "code",
   "execution_count": 19,
   "metadata": {},
   "outputs": [
    {
     "name": "stdout",
     "output_type": "stream",
     "text": [
      "Intercept: 1.6666666666666667\n"
     ]
    }
   ],
   "source": [
    "intercept = (Y_sum - (slope * X_sum)) / n\n",
    "print(f\"Intercept: {intercept}\")"
   ]
  },
  {
   "cell_type": "code",
   "execution_count": 20,
   "metadata": {},
   "outputs": [
    {
     "name": "stdout",
     "output_type": "stream",
     "text": [
      "[2.67, 3.67, 4.67, 5.67, 6.67, 7.67, 8.67, 9.67, 10.67]\n"
     ]
    }
   ],
   "source": [
    "# y = m*x + b\n",
    "y_pred = [round((slope*x + intercept), 2) for x in X ]\n",
    "print(y_pred)\n",
    "\n",
    "regression_data_set = list(zip(X, y_pred))"
   ]
  },
  {
   "attachments": {},
   "cell_type": "markdown",
   "metadata": {},
   "source": [
    "### Plot the data sets"
   ]
  },
  {
   "cell_type": "code",
   "execution_count": 34,
   "metadata": {},
   "outputs": [],
   "source": [
    "import matplotlib.pyplot as plt\n",
    "import seaborn as sns"
   ]
  },
  {
   "cell_type": "code",
   "execution_count": 38,
   "metadata": {},
   "outputs": [
    {
     "data": {
      "image/png": "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",
      "text/plain": [
       "<Figure size 640x480 with 1 Axes>"
      ]
     },
     "metadata": {},
     "output_type": "display_data"
    },
    {
     "name": "stdout",
     "output_type": "stream",
     "text": [
      "[(1, 2.67), (2, 3.67), (3, 4.67), (4, 5.67), (5, 6.67), (6, 7.67), (7, 8.67), (8, 9.67), (9, 10.67)]\n"
     ]
    }
   ],
   "source": [
    "# Create scatter plot using sns\n",
    "sns.scatterplot(x=X, y=y, label='Scatter')\n",
    "\n",
    "# Create line plot using plt\n",
    "plt.plot(X, y_pred, color='red', label='Line')\n",
    "\n",
    "plt.xlabel('X')\n",
    "plt.ylabel('Y')\n",
    "plt.title('Scatter Plot')\n",
    "plt.show()\n",
    "\n",
    "print(regression_data_set)"
   ]
  },
  {
   "attachments": {},
   "cell_type": "markdown",
   "metadata": {},
   "source": [
    "### Plot both data sets with residuals"
   ]
  },
  {
   "cell_type": "code",
   "execution_count": 40,
   "metadata": {},
   "outputs": [],
   "source": [
    "residuals = y - y_pred"
   ]
  },
  {
   "cell_type": "code",
   "execution_count": 43,
   "metadata": {},
   "outputs": [
    {
     "data": {
      "image/png": "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",
      "text/plain": [
       "<Figure size 640x480 with 1 Axes>"
      ]
     },
     "metadata": {},
     "output_type": "display_data"
    },
    {
     "name": "stdout",
     "output_type": "stream",
     "text": [
      "Original Data set:   [(1, 3), (2, 3), (3, 5), (4, 5), (5, 7), (6, 8), (7, 9), (8, 10), (9, 10)]\n",
      "Regression Data set: [(1, 2.67), (2, 3.67), (3, 4.67), (4, 5.67), (5, 6.67), (6, 7.67), (7, 8.67), (8, 9.67), (9, 10.67)]\n",
      "Error: [ 0.33 -0.67  0.33 -0.67  0.33  0.33  0.33  0.33 -0.67]\n"
     ]
    }
   ],
   "source": [
    "# Create scatter plot using sns\n",
    "sns.scatterplot(x=X, y=y, label='Scatter')\n",
    "\n",
    "# Create line plot using plt\n",
    "plt.plot(X, y_pred, color='red', label='Line')\n",
    "\n",
    "# Add lines connecting scatter plot points to line of best fit\n",
    "for x, y, y_pred in zip(X, y, y_pred):\n",
    "    plt.plot([x, x], [y, y_pred], color='gray', linestyle='--')\n",
    "\n",
    "plt.xlabel('X')\n",
    "plt.ylabel('Y')\n",
    "plt.title('Scatter Plot')\n",
    "plt.show()\n",
    "\n",
    "original_data_sets = list(original_data_sets)\n",
    "print(f\"Original Data set:   {original_data_sets}\")\n",
    "print(f\"Regression Data set: {regression_data_set}\")\n",
    "print(f\"Error: {residuals}\")"
   ]
  },
  {
   "cell_type": "code",
   "execution_count": null,
   "metadata": {},
   "outputs": [],
   "source": []
  },
  {
   "attachments": {},
   "cell_type": "markdown",
   "metadata": {},
   "source": [
    "### Predict new Y values based on X input"
   ]
  },
  {
   "cell_type": "code",
   "execution_count": 80,
   "metadata": {},
   "outputs": [],
   "source": [
    "def predict(X):\n",
    "    # y = mx+b\n",
    "    print(slope)\n",
    "    print(intercept)\n",
    "    return (slope * X) + intercept"
   ]
  },
  {
   "cell_type": "code",
   "execution_count": 81,
   "metadata": {},
   "outputs": [
    {
     "name": "stdout",
     "output_type": "stream",
     "text": [
      "1.0\n",
      "1.6666666666666667\n",
      "5.666666666666667\n",
      "1.0\n",
      "1.6666666666666667\n",
      "9.666666666666666\n"
     ]
    }
   ],
   "source": [
    "print(predict(4))\n",
    "print(predict(8))"
   ]
  }
}
