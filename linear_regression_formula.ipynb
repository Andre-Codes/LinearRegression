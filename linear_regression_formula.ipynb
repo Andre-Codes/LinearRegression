{
 "cells": [
  {
   "attachments": {},
   "cell_type": "markdown",
   "metadata": {},
   "source": [
    "# Linear Regression in Python\n"
   ]
  },
  {
   "attachments": {},
   "cell_type": "markdown",
   "metadata": {},
   "source": [
    "### Using Numpy to build the formula step-by-step:\n",
    "\n",
    "m = $\\frac{N Σ(xy) − Σx Σy}{N Σ(x2) − (Σx)2}$\n",
    "\n",
    "b = $\\frac{Σy − m Σx}{N}$"
   ]
  },
  {
   "cell_type": "code",
   "execution_count": 4,
   "metadata": {},
   "outputs": [],
   "source": [
    "import numpy as np"
   ]
  },
  {
   "attachments": {},
   "cell_type": "markdown",
   "metadata": {},
   "source": [
    "#### Create the data sets for X, Y"
   ]
  },
  {
   "cell_type": "code",
   "execution_count": 5,
   "metadata": {},
   "outputs": [
    {
     "name": "stdout",
     "output_type": "stream",
     "text": [
      "9\n",
      "X values: [1 2 3 4 5 6 7 8 9]\n",
      "Y values: [ 2  4  4  5  6  8  8  9 11]\n"
     ]
    }
   ],
   "source": [
    "X = np.array([1,2,3,4,5,6,7,8,9])\n",
    "random_nums = np.random.randint(1, 3, size=(np.size(X)))\n",
    "y = random_nums + X\n",
    "y_new = random_nums + X\n",
    "n = np.size(X)\n",
    "print(n)\n",
    "print(f\"X values: {X}\")\n",
    "print(f\"Y values: {y}\")"
   ]
  },
  {
   "attachments": {},
   "cell_type": "markdown",
   "metadata": {},
   "source": [
    "Get $\\sum(x)$ & $\\sum(y)$"
   ]
  },
  {
   "cell_type": "code",
   "execution_count": 6,
   "metadata": {},
   "outputs": [
    {
     "name": "stdout",
     "output_type": "stream",
     "text": [
      "Sum of X: 45\n",
      "Sum of Y: 57\n"
     ]
    }
   ],
   "source": [
    "X_sum = np.sum(X)\n",
    "Y_sum = np.sum(y)\n",
    "print(f\"Sum of X: {X_sum}\")\n",
    "print(f\"Sum of Y: {Y_sum}\")"
   ]
  },
  {
   "attachments": {},
   "cell_type": "markdown",
   "metadata": {},
   "source": [
    "Get $\\sum(X^{2})$"
   ]
  },
  {
   "cell_type": "code",
   "execution_count": 7,
   "metadata": {},
   "outputs": [
    {
     "name": "stdout",
     "output_type": "stream",
     "text": [
      "[ 1  4  9 16 25 36 49 64 81]\n",
      "285\n"
     ]
    }
   ],
   "source": [
    "X_sq = np.square(X)\n",
    "print(X_sq)\n",
    "\n",
    "sum_X_sq = np.sum(X_sq)\n",
    "print(sum_X_sq)"
   ]
  },
  {
   "attachments": {},
   "cell_type": "markdown",
   "metadata": {},
   "source": [
    "Get $\\sum(XY)$"
   ]
  },
  {
   "cell_type": "code",
   "execution_count": 8,
   "metadata": {},
   "outputs": [
    {
     "name": "stdout",
     "output_type": "stream",
     "text": [
      "[ 2  8 12 20 30 48 56 72 99]\n",
      "347\n"
     ]
    }
   ],
   "source": [
    "XY = (X * y)\n",
    "print(XY)\n",
    "\n",
    "sum_XY = np.sum(X * y)\n",
    "print(sum_XY)"
   ]
  },
  {
   "attachments": {},
   "cell_type": "markdown",
   "metadata": {},
   "source": [
    "### Data points"
   ]
  },
  {
   "cell_type": "code",
   "execution_count": 9,
   "metadata": {},
   "outputs": [
    {
     "name": "stdout",
     "output_type": "stream",
     "text": [
      "   X|Y|X^2|X*Y\n",
      "[[ 1  2  1  2]\n",
      " [ 2  4  4  8]\n",
      " [ 3  4  9 12]\n",
      " [ 4  5 16 20]\n",
      " [ 5  6 25 30]\n",
      " [ 6  8 36 48]\n",
      " [ 7  8 49 56]\n",
      " [ 8  9 64 72]\n",
      " [ 9 11 81 99]]\n",
      "[(1, 2), (2, 4), (3, 4), (4, 5), (5, 6), (6, 8), (7, 8), (8, 9), (9, 11)]\n"
     ]
    }
   ],
   "source": [
    "data_points = np.array([X, y, X_sq, XY])\n",
    "print(\"   X|Y|X^2|X*Y\")\n",
    "print(np.transpose(data_points))\n",
    "\n",
    "original_data_sets = list(zip(X, y))\n",
    "print(original_data_sets)\n"
   ]
  },
  {
   "attachments": {},
   "cell_type": "markdown",
   "metadata": {},
   "source": [
    "### Calculate Slope m"
   ]
  },
  {
   "cell_type": "code",
   "execution_count": 10,
   "metadata": {},
   "outputs": [
    {
     "name": "stdout",
     "output_type": "stream",
     "text": [
      "Slope: 1.0333333333333334\n"
     ]
    }
   ],
   "source": [
    "slope = ((n * sum_XY) - (X_sum * Y_sum)) / ((n * sum_X_sq) - (X_sum**2))\n",
    "print(f\"Slope: {slope}\")"
   ]
  },
  {
   "attachments": {},
   "cell_type": "markdown",
   "metadata": {},
   "source": [
    "### Calculate Intercept b"
   ]
  },
  {
   "cell_type": "code",
   "execution_count": 11,
   "metadata": {},
   "outputs": [
    {
     "name": "stdout",
     "output_type": "stream",
     "text": [
      "Intercept: 1.1666666666666659\n"
     ]
    }
   ],
   "source": [
    "intercept = (Y_sum - (slope * X_sum)) / n\n",
    "print(f\"Intercept: {intercept}\")"
   ]
  },
  {
   "cell_type": "code",
   "execution_count": 12,
   "metadata": {},
   "outputs": [
    {
     "name": "stdout",
     "output_type": "stream",
     "text": [
      "[2.2, 3.23, 4.27, 5.3, 6.33, 7.37, 8.4, 9.43, 10.47]\n"
     ]
    }
   ],
   "source": [
    "# y = m*x + b\n",
    "y_pred = [round((slope*x + intercept), 2) for x in X ]\n",
    "print(y_pred)\n",
    "\n",
    "regression_data_set = list(zip(X, y_pred))"
   ]
  },
  {
   "attachments": {},
   "cell_type": "markdown",
   "metadata": {},
   "source": [
    "### Plot the data sets"
   ]
  },
  {
   "cell_type": "code",
   "execution_count": 13,
   "metadata": {},
   "outputs": [],
   "source": [
    "import matplotlib.pyplot as plt\n",
    "import seaborn as sns"
   ]
  },
  {
   "cell_type": "code",
   "execution_count": 14,
   "metadata": {},
   "outputs": [
    {
     "data": {
      "image/png": "[encoded data removed]",
      "text/plain": [
       "<Figure size 640x480 with 1 Axes>"
      ]
     },
     "metadata": {},
     "output_type": "display_data"
    },
    {
     "name": "stdout",
     "output_type": "stream",
     "text": [
      "[(1, 2.2), (2, 3.23), (3, 4.27), (4, 5.3), (5, 6.33), (6, 7.37), (7, 8.4), (8, 9.43), (9, 10.47)]\n"
     ]
    }
   ],
   "source": [
    "# Create scatter plot using sns\n",
    "sns.scatterplot(x=X, y=y, label='Scatter')\n",
    "\n",
    "# Create line plot using plt\n",
    "plt.plot(X, y_pred, color='red', label='Line')\n",
    "\n",
    "plt.xlabel('X')\n",
    "plt.ylabel('Y')\n",
    "plt.title('Scatter Plot')\n",
    "plt.show()\n",
    "\n",
    "print(regression_data_set)"
   ]
  },
  {
   "attachments": {},
   "cell_type": "markdown",
   "metadata": {},
   "source": [
    "### Plot both data sets with residuals"
   ]
  },
  {
   "cell_type": "code",
   "execution_count": 15,
   "metadata": {},
   "outputs": [],
   "source": [
    "residuals = y - y_pred"
   ]
  },
  {
   "cell_type": "code",
   "execution_count": 16,
   "metadata": {},
   "outputs": [
    {
     "data": {
      "image/png": "[encoded data removed]",
      "text/plain": [
       "<Figure size 640x480 with 1 Axes>"
      ]
     },
     "metadata": {},
     "output_type": "display_data"
    },
    {
     "name": "stdout",
     "output_type": "stream",
     "text": [
      "Original Data set:   [(1, 2), (2, 4), (3, 4), (4, 5), (5, 6), (6, 8), (7, 8), (8, 9), (9, 11)]\n",
      "Regression Data set: [(1, 2.2), (2, 3.23), (3, 4.27), (4, 5.3), (5, 6.33), (6, 7.37), (7, 8.4), (8, 9.43), (9, 10.47)]\n",
      "Error: [-0.2   0.77 -0.27 -0.3  -0.33  0.63 -0.4  -0.43  0.53]\n"
     ]
    }
   ],
   "source": [
    "# Create scatter plot using sns\n",
    "sns.scatterplot(x=X, y=y, label='Scatter')\n",
    "\n",
    "# Create line plot using plt\n",
    "plt.plot(X, y_pred, color='red', label='Line')\n",
    "\n",
    "# Add lines connecting scatter plot points to line of best fit\n",
    "for x, y, y_pred in zip(X, y, y_pred):\n",
    "    plt.plot([x, x], [y, y_pred], color='gray', linestyle='--')\n",
    "\n",
    "plt.xlabel('X')\n",
    "plt.ylabel('Y')\n",
    "plt.title('Scatter Plot')\n",
    "plt.show()\n",
    "\n",
    "original_data_sets = list(original_data_sets)\n",
    "print(f\"Original Data set:   {original_data_sets}\")\n",
    "print(f\"Regression Data set: {regression_data_set}\")\n",
    "print(f\"Error: {residuals}\")"
   ]
  },
  {
   "cell_type": "code",
   "execution_count": null,
   "metadata": {},
   "outputs": [],
   "source": []
  },
  {
   "attachments": {},
   "cell_type": "markdown",
   "metadata": {},
   "source": [
    "### Predict new Y values based on X input"
   ]
  },
  {
   "cell_type": "code",
   "execution_count": 17,
   "metadata": {},
   "outputs": [],
   "source": [
    "def predict(X):\n",
    "    # y = mx+b\n",
    "    print(slope)\n",
    "    print(intercept)\n",
    "    return (slope * X) + intercept"
   ]
  },
  {
   "cell_type": "code",
   "execution_count": 18,
   "metadata": {},
   "outputs": [
    {
     "name": "stdout",
     "output_type": "stream",
     "text": [
      "1.0333333333333334\n",
      "1.1666666666666659\n",
      "5.3\n",
      "1.0333333333333334\n",
      "1.1666666666666659\n",
      "9.433333333333334\n"
     ]
    }
   ],
   "source": [
    "print(predict(4))\n",
    "print(predict(8))"
   ]
  }
 ],
 "metadata": {
  "kernelspec": {
   "display_name": "Python 3",
   "language": "python",
   "name": "python3"
  },
  "language_info": {
   "codemirror_mode": {
    "name": "ipython",
    "version": 3
   },
   "file_extension": ".py",
   "mimetype": "text/x-python",
   "name": "python",
   "nbconvert_exporter": "python",
   "pygments_lexer": "ipython3",
   "version": "3.11.3"
  },
  "orig_nbformat": 4
 },
 "nbformat": 4,
 "nbformat_minor": 2
}
